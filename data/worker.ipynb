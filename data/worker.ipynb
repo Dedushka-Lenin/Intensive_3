{
 "cells": [
  {
   "cell_type": "code",
   "execution_count": null,
   "metadata": {},
   "outputs": [],
   "source": [
    "import os\n",
    "\n",
    "from pathlib import Path\n",
    "\n",
    "import pandas as pd"
   ]
  },
  {
   "cell_type": "markdown",
   "metadata": {},
   "source": [
    "______________________________________________________________________________________________________________________________________________________________________________________\n",
    "\n",
    "Изменение расширения файлов "
   ]
  },
  {
   "cell_type": "code",
   "execution_count": null,
   "metadata": {},
   "outputs": [],
   "source": [
    "\n",
    "for file in os.listdir(\"data\"):\n",
    "    if file.endswith(\".xlsx\"):\n",
    "\n",
    "        file = Path(file).stem\n",
    "\n",
    "        df = pd.read_excel(f'data/{file}.xlsx', dtype=str)\n",
    "        df.to_csv(f\"data/{file}.csv\", index=False, sep=',')\n",
    "\n",
    "        os.remove(f'data/{file}.xlsx')"
   ]
  }
 ],
 "metadata": {
  "kernelspec": {
   "display_name": ".venv",
   "language": "python",
   "name": "python3"
  },
  "language_info": {
   "name": "python",
   "version": "3.11.9"
  }
 },
 "nbformat": 4,
 "nbformat_minor": 2
}
