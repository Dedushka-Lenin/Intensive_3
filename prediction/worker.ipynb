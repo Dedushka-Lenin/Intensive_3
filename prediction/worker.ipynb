{
 "cells": [
  {
   "cell_type": "code",
   "execution_count": null,
   "metadata": {},
   "outputs": [],
   "source": [
    "import os\n",
    "\n",
    "from pathlib import Path\n",
    "\n",
    "import pandas as pd"
   ]
  },
  {
   "cell_type": "markdown",
   "metadata": {},
   "source": [
    "______________________________________________________________________________________________________________________________________________________________________________________\n",
    "\n",
    "Изменение расширения файлов "
   ]
  },
  {
   "cell_type": "code",
   "execution_count": 87,
   "metadata": {},
   "outputs": [],
   "source": [
    "\n",
    "for file in os.listdir(\"data\"):\n",
    "    if file.endswith(\".xlsx\"):\n",
    "\n",
    "        file = Path(file).stem\n",
    "\n",
    "        df = pd.read_excel(f'data/{file}.xlsx', dtype=str)\n",
    "        df.to_csv(f\"data/{file}.csv\", index=False, sep=',')\n",
    "\n",
    "        os.remove(f'data/{file}.xlsx')"
   ]
  },
  {
   "cell_type": "markdown",
   "metadata": {},
   "source": [
    "______________________________________________________________________________________________________________________________________________________________________________________\n",
    "\n",
    "Подгатовка доп данных"
   ]
  },
  {
   "cell_type": "code",
   "execution_count": 88,
   "metadata": {},
   "outputs": [
    {
     "name": "stdout",
     "output_type": "stream",
     "text": [
      "<class 'pandas.core.frame.DataFrame'>\n",
      "RangeIndex: 423 entries, 0 to 422\n",
      "Data columns (total 23 columns):\n",
      " #   Column                                                                                            Non-Null Count  Dtype  \n",
      "---  ------                                                                                            --------------  -----  \n",
      " 0   dt                                                                                                423 non-null    object \n",
      " 1   Лом_HMS 1/2 80:20, FOB EC Роттердам, $/т                                                          423 non-null    int64  \n",
      " 2   Лом_3А, РФ CPT ж/д Южный ФО, руб./т, без НДС                                                      423 non-null    int64  \n",
      " 3   Лом_3А, РФ CPT ж/д Сибирский ФО, руб./т, без НДС                                                  423 non-null    int64  \n",
      " 4   Лом_3А, РФ CPT ж/д Центральный ФО, руб./т, без НДС                                                423 non-null    int64  \n",
      " 5   ЖРС_Китай Iron ore fines Fe 62%, CFR                                                              423 non-null    int64  \n",
      " 6   Концентрат коксующегося угля_Россия марка КО FCA руб./т, без НДС                                  423 non-null    float64\n",
      " 7   ЖРС_Российские окатыши Fe 62-65,5%, SiO2 5,8-8,65, DAP Забайкальск-Манжули, $/т                   423 non-null    float64\n",
      " 8   Лом_HMS 1/2 80:20, FOB США Восток, $/т                                                            423 non-null    int64  \n",
      " 9   Лом_3А, FOB РФ Черное море, $/т                                                                   423 non-null    int64  \n",
      " 10  Чугун_FOB Бразилия Север, $/т                                                                     423 non-null    int64  \n",
      " 11  Лом_HMS 1/2 80:20, CFR ЮВА, $/т                                                                   423 non-null    int64  \n",
      " 12  Лом_3А, РФ FCA ж/д респ. Татарстан, руб./т, без НДС                                               423 non-null    int64  \n",
      " 13  ЖРС_Российский концентрат Fe 62,5-67,5%, SiO2 0,78-8,51, сухой вес, DAP Забайкальск-Манжули, $/т  423 non-null    float64\n",
      " 14  Кокс_Россия Урал Сибирь +25, FCA руб./т., без НДС                                                 423 non-null    int64  \n",
      " 15  Лом_3А, РФ FCA ж/д Московский регион, руб./т, без НДС                                             423 non-null    int64  \n",
      " 16  Чугун_FOB Россия Черное море, $/т                                                                 423 non-null    int64  \n",
      " 17  ЖРС_Россия аглоруда Fe 52-60%, FCA руб./т, без НДС                                                423 non-null    float64\n",
      " 18  ЖРС_Россия концентрат Fe 64-68%, FCA руб./т, без НДС                                              423 non-null    float64\n",
      " 19  Чугун_Россия, FCA руб./т, без НДС                                                                 423 non-null    int64  \n",
      " 20  ЖРС_Россия окатыши Fe 62-65,5% FCA руб./т, без НДС                                                423 non-null    float64\n",
      " 21  Лом_3А, РФ CPT ж/д Уральский ФО, руб./т, без НДС                                                  423 non-null    int64  \n",
      " 22  Лом_HMS 1/2 80:20, CFR Турция, $/т                                                                423 non-null    int64  \n",
      "dtypes: float64(6), int64(16), object(1)\n",
      "memory usage: 76.1+ KB\n"
     ]
    }
   ],
   "source": [
    "df = pd.read_csv('data/Цены на сырье.csv')\n",
    "dft = pd.read_csv('data/train.csv')\n",
    "\n",
    "###############################################################################################\n",
    "\n",
    "dn = [] \n",
    "\n",
    "for elm in df.columns:\n",
    "    nop = len(df) - df.isnull().sum()[elm]   \n",
    "    if nop != len(df): dn.append(elm)\n",
    "\n",
    "df = df.drop(dn, axis=1)\n",
    "\n",
    "#############################################################################################################################################\n",
    "\n",
    "numeric_df = df.select_dtypes(include=['float64', 'int64'])\n",
    "\n",
    "ln = ['dt']\n",
    "\n",
    "percent = 70\n",
    "\n",
    "for elm in numeric_df.columns:\n",
    "\n",
    "    asis = df[elm].corr(dft['pfr'])\n",
    "    if asis >= percent / 100: ln.append(elm)\n",
    "\n",
    "# #############################################################################################################################################\n",
    "\n",
    "dn = list(df.columns)\n",
    "\n",
    "for elm in ln: dn.remove(elm)\n",
    "\n",
    "df = df.drop(dn, axis=1)\n",
    "\n",
    "# #############################################################################################################################################\n",
    "\n",
    "df.to_csv( \"data/price.csv\", index=False, encoding='utf-8-sig')\n",
    "\n",
    "df.info()"
   ]
  },
  {
   "cell_type": "code",
   "execution_count": 89,
   "metadata": {},
   "outputs": [],
   "source": [
    "df_train = pd.read_csv('data/train.csv')\n",
    "df_test = pd.read_csv('data/test.csv')\n",
    "df_price = pd.read_csv('data/price.csv')\n",
    "\n",
    "df = pd.concat([df_train, df_test], ignore_index=True)\n",
    "df = pd.concat([df, df_price], axis=1)\n",
    "\n",
    "df.to_csv(\"data/full.csv\", index=False) # Файл с результатом"
   ]
  },
  {
   "cell_type": "code",
   "execution_count": 92,
   "metadata": {},
   "outputs": [
    {
     "name": "stdout",
     "output_type": "stream",
     "text": [
      "<class 'pandas.core.frame.DataFrame'>\n",
      "RangeIndex: 423 entries, 0 to 422\n",
      "Data columns (total 24 columns):\n",
      " #   Column                                                                                            Non-Null Count  Dtype  \n",
      "---  ------                                                                                            --------------  -----  \n",
      " 0   dt                                                                                                423 non-null    object \n",
      " 1   pfr                                                                                               423 non-null    int64  \n",
      " 2   Лом_HMS 1/2 80:20, FOB EC Роттердам, $/т                                                          423 non-null    int64  \n",
      " 3   Лом_3А, РФ CPT ж/д Южный ФО, руб./т, без НДС                                                      423 non-null    int64  \n",
      " 4   Лом_3А, РФ CPT ж/д Сибирский ФО, руб./т, без НДС                                                  423 non-null    int64  \n",
      " 5   Лом_3А, РФ CPT ж/д Центральный ФО, руб./т, без НДС                                                423 non-null    int64  \n",
      " 6   ЖРС_Китай Iron ore fines Fe 62%, CFR                                                              423 non-null    int64  \n",
      " 7   Концентрат коксующегося угля_Россия марка КО FCA руб./т, без НДС                                  423 non-null    float64\n",
      " 8   ЖРС_Российские окатыши Fe 62-65,5%, SiO2 5,8-8,65, DAP Забайкальск-Манжули, $/т                   423 non-null    float64\n",
      " 9   Лом_HMS 1/2 80:20, FOB США Восток, $/т                                                            423 non-null    int64  \n",
      " 10  Лом_3А, FOB РФ Черное море, $/т                                                                   423 non-null    int64  \n",
      " 11  Чугун_FOB Бразилия Север, $/т                                                                     423 non-null    int64  \n",
      " 12  Лом_HMS 1/2 80:20, CFR ЮВА, $/т                                                                   423 non-null    int64  \n",
      " 13  Лом_3А, РФ FCA ж/д респ. Татарстан, руб./т, без НДС                                               423 non-null    int64  \n",
      " 14  ЖРС_Российский концентрат Fe 62,5-67,5%, SiO2 0,78-8,51, сухой вес, DAP Забайкальск-Манжули, $/т  423 non-null    float64\n",
      " 15  Кокс_Россия Урал Сибирь +25, FCA руб./т., без НДС                                                 423 non-null    int64  \n",
      " 16  Лом_3А, РФ FCA ж/д Московский регион, руб./т, без НДС                                             423 non-null    int64  \n",
      " 17  Чугун_FOB Россия Черное море, $/т                                                                 423 non-null    int64  \n",
      " 18  ЖРС_Россия аглоруда Fe 52-60%, FCA руб./т, без НДС                                                423 non-null    float64\n",
      " 19  ЖРС_Россия концентрат Fe 64-68%, FCA руб./т, без НДС                                              423 non-null    float64\n",
      " 20  Чугун_Россия, FCA руб./т, без НДС                                                                 423 non-null    int64  \n",
      " 21  ЖРС_Россия окатыши Fe 62-65,5% FCA руб./т, без НДС                                                423 non-null    float64\n",
      " 22  Лом_3А, РФ CPT ж/д Уральский ФО, руб./т, без НДС                                                  423 non-null    int64  \n",
      " 23  Лом_HMS 1/2 80:20, CFR Турция, $/т                                                                423 non-null    int64  \n",
      "dtypes: float64(6), int64(17), object(1)\n",
      "memory usage: 79.4+ KB\n"
     ]
    }
   ],
   "source": [
    "df = pd.read_csv(\"data/full.csv\")\n",
    "\n",
    "total = df.drop(['dt.1'], axis=1)    # Столбцы требующие удаления\n",
    "\n",
    "total.info()\n",
    "\n",
    "total.to_csv( \"data/full.csv\", index=False, encoding='utf-8-sig')"
   ]
  }
 ],
 "metadata": {
  "kernelspec": {
   "display_name": ".venv",
   "language": "python",
   "name": "python3"
  },
  "language_info": {
   "codemirror_mode": {
    "name": "ipython",
    "version": 3
   },
   "file_extension": ".py",
   "mimetype": "text/x-python",
   "name": "python",
   "nbconvert_exporter": "python",
   "pygments_lexer": "ipython3",
   "version": "3.11.9"
  }
 },
 "nbformat": 4,
 "nbformat_minor": 2
}
